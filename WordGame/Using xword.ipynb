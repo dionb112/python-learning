{
 "cells": [
  {
   "cell_type": "code",
   "execution_count": 1,
   "metadata": {},
   "outputs": [],
   "source": [
    "import xword"
   ]
  },
  {
   "cell_type": "code",
   "execution_count": null,
   "metadata": {},
   "outputs": [],
   "source": [
    "letters = {\n",
    "    't': 2,\n",
    "    'a': 4, \n",
    "}"
   ]
  },
  {
   "cell_type": "code",
   "execution_count": 2,
   "metadata": {},
   "outputs": [
    {
     "data": {
      "text/plain": [
       "['atlanta',\n",
       " \"atlas's\",\n",
       " 'atlases',\n",
       " \"atman's\",\n",
       " 'attaché',\n",
       " 'attacks',\n",
       " 'attains',\n",
       " \"attar's\",\n",
       " \"ethan's\",\n",
       " 'ithacan',\n",
       " 'ottawas',\n",
       " \"stead's\",\n",
       " \"steak's\",\n",
       " \"steal's\",\n",
       " 'stealth',\n",
       " \"steam's\",\n",
       " 'steamed',\n",
       " 'steamer',\n",
       " \"stoat's\",\n",
       " 'strafed',\n",
       " 'strafes',\n",
       " 'strains',\n",
       " 'straits',\n",
       " 'strands',\n",
       " 'strange',\n",
       " \"strap's\",\n",
       " 'stratum',\n",
       " 'strauss',\n",
       " \"straw's\",\n",
       " 'strawed',\n",
       " \"stray's\",\n",
       " 'strayed',\n",
       " 'stuarts']"
      ]
     },
     "execution_count": 2,
     "metadata": {},
     "output_type": "execute_result"
    }
   ],
   "source": [
    "xword.suggest('-T-A---')"
   ]
  },
  {
   "cell_type": "code",
   "execution_count": null,
   "metadata": {},
   "outputs": [],
   "source": []
  }
 ],
 "metadata": {
  "kernelspec": {
   "display_name": "Python 3",
   "language": "python",
   "name": "python3"
  },
  "language_info": {
   "codemirror_mode": {
    "name": "ipython",
    "version": 3
   },
   "file_extension": ".py",
   "mimetype": "text/x-python",
   "name": "python",
   "nbconvert_exporter": "python",
   "pygments_lexer": "ipython3",
   "version": "3.6.5"
  }
 },
 "nbformat": 4,
 "nbformat_minor": 2
}
