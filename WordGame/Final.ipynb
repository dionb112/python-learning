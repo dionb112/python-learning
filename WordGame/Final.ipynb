{
 "cells": [
  {
   "cell_type": "markdown",
   "metadata": {},
   "source": [
    "from flask import Flask, render_template, request\n",
    "app = Flask(__name__)\n",
    "@app.route('/displayform')\n",
    "def display_form():\n",
    "    return render_template('first.html')\n",
    "@app.route('/processform', methods=['POST'])\n",
    "def process_form():\n",
    "    with open('webapp.log', 'a') as logf:\n",
    "        print(request.form['guesses'], file=logf)\n",
    "        print('----------------------------', file=logf)\n",
    "    return render_template('thanks.html',\n",
    "                            guesses=request.form['guesses'], \n",
    "                            the_title='Thanks!')\n",
    "\n",
    "\n",
    "app.run(debug=True)\n"
   ]
  },
  {
   "cell_type": "code",
   "execution_count": 4,
   "metadata": {},
   "outputs": [],
   "source": [
    "with open('./words.txt') as wordsf:\n",
    "    words0 = wordsf.readlines()\n",
    "# or don't convert it back to list if just iterating (save memory)\n",
    "words = list(map(lambda each:each.strip('\\n'), words0))"
   ]
  },
  {
   "cell_type": "code",
   "execution_count": null,
   "metadata": {},
   "outputs": [],
   "source": []
  },
  {
   "cell_type": "code",
   "execution_count": null,
   "metadata": {},
   "outputs": [],
   "source": []
  },
  {
   "cell_type": "code",
   "execution_count": null,
   "metadata": {},
   "outputs": [],
   "source": []
  },
  {
   "cell_type": "code",
   "execution_count": null,
   "metadata": {},
   "outputs": [],
   "source": []
  },
  {
   "cell_type": "code",
   "execution_count": null,
   "metadata": {},
   "outputs": [],
   "source": []
  },
  {
   "cell_type": "code",
   "execution_count": null,
   "metadata": {},
   "outputs": [],
   "source": []
  },
  {
   "cell_type": "code",
   "execution_count": null,
   "metadata": {},
   "outputs": [],
   "source": []
  }
 ],
 "metadata": {
  "kernelspec": {
   "display_name": "Python 3",
   "language": "python",
   "name": "python3"
  },
  "language_info": {
   "codemirror_mode": {
    "name": "ipython",
    "version": 3
   },
   "file_extension": ".py",
   "mimetype": "text/x-python",
   "name": "python",
   "nbconvert_exporter": "python",
   "pygments_lexer": "ipython3",
   "version": "3.6.5"
  }
 },
 "nbformat": 4,
 "nbformat_minor": 2
}
