{
 "cells": [
  {
   "cell_type": "markdown",
   "metadata": {},
   "source": [
    "from flask import Flask, render_template, request\n",
    "app = Flask(__name__)\n",
    "@app.route('/displayform')\n",
    "def display_form():\n",
    "    return render_template('first.html')\n",
    "@app.route('/processform', methods=['POST'])\n",
    "def process_form():\n",
    "    with open('webapp.log', 'a') as logf:\n",
    "        print(request.form['guesses'], file=logf)\n",
    "        print('----------------------------', file=logf)\n",
    "    return render_template('thanks.html',\n",
    "                            guesses=request.form['guesses'], \n",
    "                            the_title='Thanks!')\n",
    "\n",
    "\n",
    "app.run(debug=True)\n"
   ]
  },
  {
   "cell_type": "code",
   "execution_count": 94,
   "metadata": {
    "scrolled": false
   },
   "outputs": [
    {
     "data": {
      "text/plain": [
       "11206"
      ]
     },
     "execution_count": 94,
     "metadata": {},
     "output_type": "execute_result"
    }
   ],
   "source": [
    "from random import randrange\n",
    "\n",
    "with open('./words.txt') as wordsf:\n",
    "    words0 = wordsf.readlines()\n",
    "# convert it to list() if printing, here just iterating (so save memory)\n",
    "words = (map(lambda each:each.strip('\\n'), words0))\n",
    "\n",
    "# two helper functions from xword\n",
    "def suggest(hint_string):\n",
    "    \"\"\"Take the hint_string and return the possible words.\"\"\"\n",
    "    n_letters = len(hint_string)\n",
    "    known_letters = {}\n",
    "    for n, letter in enumerate(hint_string.lower()):\n",
    "        if letter != '-':\n",
    "            known_letters[n+1] = letter\n",
    "    return find_words(n_letters, known_letters)\n",
    "def find_words(length, letters):\n",
    "    \"\"\"Find words of a certain length which contain\n",
    "       the specified positional letters.\"\"\"\n",
    "    results = set()\n",
    "    for w in words:\n",
    "        w = w.lower().strip()\n",
    "        if len(w) == length:\n",
    "            got_one = True\n",
    "            for loc, let in letters.items():\n",
    "                if w[loc-1] != let:\n",
    "                    got_one = False\n",
    "            if got_one:\n",
    "                results.add(w)\n",
    "    return sorted(results)\n",
    "\n",
    "# using: sortedwords = sorted(words, key=len)\n",
    "#        print(\"The longest word in the list is: %s.\" % (sortedwords[-1],))\n",
    "# Ensures at least one valid word (I can see the longest length word in the list is 23 chars (include '))\n",
    "size = randrange(6,23)\n",
    "source_word = \"\".join('-' for i in range(size))\n",
    "results = list(suggest(source_word))\n",
    "# get length of results and pick an element with random choice from 0 to length - 1\n",
    "len(results)"
   ]
  },
  {
   "cell_type": "code",
   "execution_count": null,
   "metadata": {},
   "outputs": [],
   "source": []
  },
  {
   "cell_type": "code",
   "execution_count": null,
   "metadata": {},
   "outputs": [],
   "source": []
  }
 ],
 "metadata": {
  "kernelspec": {
   "display_name": "Python 3",
   "language": "python",
   "name": "python3"
  },
  "language_info": {
   "codemirror_mode": {
    "name": "ipython",
    "version": 3
   },
   "file_extension": ".py",
   "mimetype": "text/x-python",
   "name": "python",
   "nbconvert_exporter": "python",
   "pygments_lexer": "ipython3",
   "version": "3.7.0"
  }
 },
 "nbformat": 4,
 "nbformat_minor": 2
}
