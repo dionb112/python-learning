{
 "cells": [
  {
   "cell_type": "code",
   "execution_count": 15,
   "metadata": {
    "scrolled": false
   },
   "outputs": [],
   "source": [
    "from random import choice\n",
    "from flask import Flask, render_template, request, session\n",
    "\n",
    "with open('./words.txt') as wordsf:\n",
    "        words0 = wordsf.readlines()\n",
    "        # don't convert to list if just iterating (save memory)\n",
    "        words = list(map(lambda each:each.strip('\\n'), words0))\n",
    "        \n",
    "def get_source_word():\n",
    "    results = []\n",
    "    for w in words:\n",
    "        if (len(w) > 6):\n",
    "            results.append(w)\n",
    "    source = choice(results)\n",
    "    return (source)"
   ]
  },
  {
   "cell_type": "code",
   "execution_count": null,
   "metadata": {},
   "outputs": [],
   "source": [
    "app = Flask(__name__)\n",
    "app.secret_key = 'OneSessionToRuleThemAll'\n",
    "@app.route('/displayform')\n",
    "def display_form():\n",
    "    session['source_word'] = get_source_word()\n",
    "    return render_template('first.html', source_word=session['source_word'])\n",
    "@app.route('/processform', methods=['POST'])\n",
    "def process_form():\n",
    "    with open('webapp.log', 'a') as logf:\n",
    "        print(request.form['guesses'], file=logf)\n",
    "        print('----------------------------', file=logf)\n",
    "    return render_template('thanks.html',\n",
    "                            guesses=request.form['guesses'], \n",
    "                            the_title='Thanks!')\n",
    "app.run(debug=True)"
   ]
  },
  {
   "cell_type": "code",
   "execution_count": null,
   "metadata": {},
   "outputs": [],
   "source": []
  }
 ],
 "metadata": {
  "kernelspec": {
   "display_name": "Python 3",
   "language": "python",
   "name": "python3"
  },
  "language_info": {
   "codemirror_mode": {
    "name": "ipython",
    "version": 3
   },
   "file_extension": ".py",
   "mimetype": "text/x-python",
   "name": "python",
   "nbconvert_exporter": "python",
   "pygments_lexer": "ipython3",
   "version": "3.6.5"
  }
 },
 "nbformat": 4,
 "nbformat_minor": 2
}
